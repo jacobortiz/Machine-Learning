{
  "nbformat": 4,
  "nbformat_minor": 0,
  "metadata": {
    "colab": {
      "name": "neural-nets.ipynb",
      "provenance": [],
      "collapsed_sections": []
    },
    "kernelspec": {
      "display_name": "Python 3",
      "language": "python",
      "name": "python3"
    },
    "language_info": {
      "codemirror_mode": {
        "name": "ipython",
        "version": 3
      },
      "file_extension": ".py",
      "mimetype": "text/x-python",
      "name": "python",
      "nbconvert_exporter": "python",
      "pygments_lexer": "ipython3",
      "version": "3.7.3"
    }
  },
  "cells": [
    {
      "cell_type": "markdown",
      "metadata": {
        "id": "svJ9TXEqCBZp"
      },
      "source": [
        "# A tiny neural net from scratch"
      ]
    },
    {
      "cell_type": "markdown",
      "metadata": {
        "id": "_i37IZKwCBZq"
      },
      "source": [
        "This week we will built a very small neural net from scratch.\n",
        "\n",
        "### Instructions\n",
        "\n",
        "**Part 1**:\n",
        "Your goal in this part is to solve a regression problem using a neural net with a single hidden layer of 2 neurons.\n",
        "Add your code to the large cell below that at the two points where you see YOUR CODE HERE.\n",
        "Do not modify any other code.  Please note that bias weights are used.\n",
        "\n",
        "You will also need to add code at the YOUR CODE HERE within the predict() method.\n",
        "\n",
        "When your code is working you should be able to get an RMSE value not much larger than the RMSE from LinearRegression in Scikit-Learn, and a lot better than the baseline RMSE.  Be sure to experiment with learning rate and number of training steps.\n",
        "\n",
        "**Part 2**:\n",
        "Your goal in this part is to generalize your solution in part 1 so that it works with any number of neurons in the hidden layer.  Insert your code in the three cells at the bottom of the file.\n",
        "\n",
        "Modify this file only in the places marked with YOUR CODE HERE.  Don't import other packages."
      ]
    },
    {
      "cell_type": "code",
      "metadata": {
        "id": "fDAVgmYHCBZs"
      },
      "source": [
        "# Do not import any other packages\n",
        "import numpy as np\n",
        "import pandas as pd\n",
        "from sklearn.preprocessing import StandardScaler\n",
        "from sklearn.linear_model import LinearRegression\n",
        "import matplotlib.pyplot as plt"
      ],
      "execution_count": null,
      "outputs": []
    },
    {
      "cell_type": "code",
      "metadata": {
        "id": "qaRtdcbCPb-9"
      },
      "source": [
        "# for repeatability\n",
        "np.random.seed(0)"
      ],
      "execution_count": null,
      "outputs": []
    },
    {
      "cell_type": "markdown",
      "metadata": {
        "id": "cXC--FT8Pb-_"
      },
      "source": [
        "### Data sets"
      ]
    },
    {
      "cell_type": "markdown",
      "metadata": {
        "id": "2eF5mGbBifsD"
      },
      "source": [
        "Data set 1: heart disease data"
      ]
    },
    {
      "cell_type": "code",
      "metadata": {
        "id": "M2JLWv7FCBav"
      },
      "source": [
        "df = pd.read_csv(\"https://raw.githubusercontent.com/grbruns/cst383/master/heart.csv\")\n",
        "\n",
        "def heart_data():\n",
        "    predictors = ['age', 'restbp', 'chol']\n",
        "    target = 'maxhr'\n",
        "    X_train = df[predictors].values\n",
        "    y_train = df[target].values\n",
        "\n",
        "    # scale the data\n",
        "    X_train = StandardScaler().fit_transform(X_train)\n",
        "\n",
        "    return X_train, y_train"
      ],
      "execution_count": null,
      "outputs": []
    },
    {
      "cell_type": "markdown",
      "metadata": {
        "id": "iahnWDYEtUS7"
      },
      "source": [
        "Data set 2: synthetic linear data"
      ]
    },
    {
      "cell_type": "code",
      "metadata": {
        "id": "J2trprm9tWHj"
      },
      "source": [
        "def synthetic_data():\n",
        "    w0 = 2\n",
        "    w1 = 1.2\n",
        "    n = 300\n",
        "    x = np.random.rand(n)*10\n",
        "    y = w0 + w1*x + np.random.normal(size=n)*0.8\n",
        "\n",
        "    X_train = x.reshape((n, 1))\n",
        "    X_train = StandardScaler().fit_transform(X_train)\n",
        "    y_train = y\n",
        "    \n",
        "    return X_train, y_train"
      ],
      "execution_count": null,
      "outputs": []
    },
    {
      "cell_type": "markdown",
      "metadata": {
        "id": "phuyBXvNPb_F"
      },
      "source": [
        "Plot synthetic data"
      ]
    },
    {
      "cell_type": "code",
      "metadata": {
        "id": "C2pfIkc7twZs",
        "colab": {
          "base_uri": "https://localhost:8080/",
          "height": 265
        },
        "outputId": "874b38bc-2859-4888-d33f-5c7e37fe73ff"
      },
      "source": [
        "X_train, y_train = synthetic_data()\n",
        "plt.scatter(X_train[:,0], y_train);"
      ],
      "execution_count": null,
      "outputs": [
        {
          "output_type": "display_data",
          "data": {
            "image/png": "[encoded data removed]",
            "text/plain": [
              "<Figure size 432x288 with 1 Axes>"
            ]
          },
          "metadata": {
            "tags": [],
            "needs_background": "light"
          }
        }
      ]
    },
    {
      "cell_type": "markdown",
      "metadata": {
        "id": "8OE53mH-i378"
      },
      "source": [
        "#### Basic components of a neural net."
      ]
    },
    {
      "cell_type": "code",
      "metadata": {
        "id": "uocUkX2VCBZy"
      },
      "source": [
        "def mse(y, y_pred):\n",
        "    return 0.5 * (y - y_pred)**2\n",
        "\n",
        "def summation(w, x):\n",
        "    return w.dot(x)\n",
        "\n",
        "def sigmoid(x):\n",
        "    return 1/(1 + np.exp(-x))\n",
        "\n",
        "def neuron(w, x):\n",
        "    return sigmoid(w.dot(x))"
      ],
      "execution_count": null,
      "outputs": []
    },
    {
      "cell_type": "markdown",
      "metadata": {
        "id": "pSj648PbCBZ7"
      },
      "source": [
        "### Two neurons plus summation plus MSE"
      ]
    },
    {
      "cell_type": "markdown",
      "metadata": {
        "id": "05UqcT0djBBi"
      },
      "source": [
        "#### Stochastic gradient descent"
      ]
    },
    {
      "cell_type": "code",
      "metadata": {
        "id": "6-NrvmjyPb_M"
      },
      "source": [
        "# select the training data set\n",
        "X_train, y_train = synthetic_data()\n",
        "# X_train, y_train = heart_data()"
      ],
      "execution_count": null,
      "outputs": []
    },
    {
      "cell_type": "code",
      "metadata": {
        "id": "2ZHNyt41i_jK",
        "colab": {
          "base_uri": "https://localhost:8080/",
          "height": 170
        },
        "outputId": "3292ee8e-b8be-4146-ceb4-2fc535cfb40f"
      },
      "source": [
        "num_inputs = X_train.shape[1]\n",
        "num_neurons = 2\n",
        "learning_rate = 0.01\n",
        "bias = np.array([1.0])\n",
        "\n",
        "# initialize weights\n",
        "w_neuron1   = np.random.rand(num_inputs+1)  - 0.5    # +1 is for the bias\n",
        "w_neuron2   = np.random.rand(num_inputs+1)  - 0.5\n",
        "w_summation = np.random.rand(num_neurons+1) - 0.5\n",
        "\n",
        "z_sum = 0.0\n",
        "loss_skip = 10\n",
        "n_training_steps = 100\n",
        "for i in range(n_training_steps):\n",
        "    \n",
        "    # pick a single random training example and add bias\n",
        "    row = np.random.choice(X_train.shape[0])\n",
        "    x = X_train[row]\n",
        "    y = y_train[row]\n",
        "    x1 = np.concatenate((bias, x))    \n",
        "    #\n",
        "    # feedforward\n",
        "    #\n",
        "    \n",
        "    # - run the two neurons on x1, store the two outputs as array u\n",
        "    # - add bias to u to get u1\n",
        "    # - run the summation node on u1, to get output v\n",
        "    # - compute the MSE using v and y, to get output z    \n",
        "    u = np.array([neuron(w_neuron1, x1), neuron(w_neuron2, x1)])\n",
        "    u1 = np.concatenate((bias, u))\n",
        "    v = summation(w_summation, u1)\n",
        "    z = mse(y, v)\n",
        "\n",
        "    # report loss (averaged over loss_skip number of steps)\n",
        "    z_sum += z\n",
        "    if i > 0 and i % loss_skip == 0:\n",
        "        print(z_sum/loss_skip)\n",
        "        z_sum = 0.0\n",
        "\n",
        "    #\n",
        "    # backprop\n",
        "    #\n",
        "    \n",
        "    # Your code will update the network weights:\n",
        "    # 1. compute the partial derivative of z with respect to v\n",
        "    pdz_v = v - y\n",
        "\n",
        "    # 2. compute the partial derivative of z with respect to u, using your step 1 result\n",
        "    pdz_u = pdz_v * u1\n",
        "\n",
        "    # 3. compute the partial derivative of z with respect to the weights of the summation node\n",
        "    pdz_ws = pdz_v * w_summation\n",
        "\n",
        "    # 4. update the summation node weights (w_summation) in a gradient descent update step\n",
        "    w_summation = w_summation - learning_rate * pdz_u\n",
        "\n",
        "    # 5. compute the partial derivative of z with respect to the weights of neuron 1\n",
        "    pdz_n1 = pdz_ws[0] * u1[1] * (1 - u1[1]) * x1\n",
        "\n",
        "    # 6. compute the partial derivative of z with respect to the weights of neuron 2\n",
        "    pdz_n2 = pdz_ws[0] * u1[2] * (1 - u1[2]) * x1\n",
        "\n",
        "    # 7. update the neuron weights (w_neuron1, w_neuron2) in a gradient descent update step\n",
        "    w_neuron1 = w_neuron1 - learning_rate * pdz_n1\n",
        "    w_neuron2 = w_neuron2 - learning_rate * pdz_n2\n",
        "\n",
        "    \n",
        " "
      ],
      "execution_count": null,
      "outputs": [
        {
          "output_type": "stream",
          "text": [
            "46.02049340924597\n",
            "26.960559527312245\n",
            "19.412557902226037\n",
            "11.751112966823225\n",
            "11.156420895138455\n",
            "12.066114948385408\n",
            "2.6914215678658824\n",
            "9.832954767736968\n",
            "2.4095553897475908\n"
          ],
          "name": "stdout"
        }
      ]
    },
    {
      "cell_type": "markdown",
      "metadata": {
        "id": "TiOlgbwBko6y"
      },
      "source": [
        "#### Make predictions"
      ]
    },
    {
      "cell_type": "code",
      "metadata": {
        "id": "yusfrCDnkooD"
      },
      "source": [
        "def predict(X_train, w_neuron1, w_neuron2, w_summation):\n",
        "    m = X_train.shape[0]\n",
        "    y_pred = np.zeros(m)\n",
        "    for i in range(m):\n",
        "       # YOUR CODE HERE\n",
        "       # You will use your feedforward code here.\n",
        "       x1 = np.concatenate((bias,  X_train[i]))\n",
        "       u = np.array([neuron(w_neuron1, x1), neuron(w_neuron2, x1)])\n",
        "       u1 = np.concatenate((bias,u))\n",
        "       v = summation(w_summation, u1)\n",
        "       y_pred[i] = v\n",
        "       \n",
        "    return y_pred"
      ],
      "execution_count": null,
      "outputs": []
    },
    {
      "cell_type": "markdown",
      "metadata": {
        "id": "mcptBDCqo1wU"
      },
      "source": [
        "Compute RMSE for neural net, LinearRegression, and baseline."
      ]
    },
    {
      "cell_type": "code",
      "metadata": {
        "id": "co4kx63Ao5Wh"
      },
      "source": [
        "def rmse(y_pred, y_train):\n",
        "    return np.sqrt(((y_pred - y_train)**2).mean())\n",
        "\n",
        "def compare_RMSE(X_train, y_train, y_pred):\n",
        "    \"\"\" Compare training RMSE for neural net (parameter y_pred), LinearRegression(), and baseline. \"\"\"\n",
        "    # linear regression\n",
        "    regr = LinearRegression()\n",
        "    regr.fit(X_train, y_train)\n",
        "    y_pred_sk = regr.predict(X_train)\n",
        "    # baseline\n",
        "    baseline = y_train.mean()\n",
        "    rmse_base = np.sqrt(((baseline - y_train)**2).mean())\n",
        "    \n",
        "    print(\"RMSE, neural net: {:0.1f}\".format(rmse(y_pred, y_train)))\n",
        "    print(\"RMSE, LinearRegression: {:0.1f}\".format(rmse(y_pred_sk, y_train)))\n",
        "    print(\"RMSE, baseline: {:0.1f}\".format(rmse(baseline, y_train)))"
      ],
      "execution_count": null,
      "outputs": []
    },
    {
      "cell_type": "code",
      "metadata": {
        "id": "fpYsRjmEPb_X",
        "colab": {
          "base_uri": "https://localhost:8080/",
          "height": 68
        },
        "outputId": "61d0d015-8533-428b-ea7f-636584ee135b"
      },
      "source": [
        "y_pred = predict(X_train, w_neuron1, w_neuron2, w_summation)\n",
        "compare_RMSE(X_train, y_train, y_pred)"
      ],
      "execution_count": null,
      "outputs": [
        {
          "output_type": "stream",
          "text": [
            "RMSE, neural net: 3.5\n",
            "RMSE, LinearRegression: 0.7\n",
            "RMSE, baseline: 3.6\n"
          ],
          "name": "stdout"
        }
      ]
    }
  ]
}