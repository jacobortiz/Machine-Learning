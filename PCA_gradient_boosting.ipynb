{
  "nbformat": 4,
  "nbformat_minor": 0,
  "metadata": {
    "kernelspec": {
      "display_name": "Python 3",
      "language": "python",
      "name": "python3"
    },
    "language_info": {
      "codemirror_mode": {
        "name": "ipython",
        "version": 3
      },
      "file_extension": ".py",
      "mimetype": "text/x-python",
      "name": "python",
      "nbconvert_exporter": "python",
      "pygments_lexer": "ipython3",
      "version": "3.7.3"
    },
    "colab": {
      "name": "PCA_gradient_boosting.ipynb",
      "provenance": [],
      "collapsed_sections": []
    }
  },
  "cells": [
    {
      "cell_type": "markdown",
      "metadata": {
        "id": "gd3CeUiAgDzy"
      },
      "source": [
        "## PCA and gradient boosting on diamonds data"
      ]
    },
    {
      "cell_type": "markdown",
      "metadata": {
        "id": "FXFdDsWhgDzy"
      },
      "source": [
        "The Kaggle diamonds data set looks like a good candidate for dimensionality reduction because we know that many of the diamond features are correlated (such as the x,y,z dimensions, and number of carats).\n",
        "\n",
        "Let's see how many principal components are needed to obtain a high explained variance ratio.  Also, let's see how the number of principal components relates to test error if we use the diamonds data for a regression problem."
      ]
    },
    {
      "cell_type": "markdown",
      "metadata": {
        "id": "IyzO1qW3gDzz"
      },
      "source": [
        "### Instructions:\n",
        "- there are 10 problems for you to solve\n",
        "- replace YOUR CODE HERE with your own code\n",
        "- do not make any other changes to the code (although you can put your name beneath the title if you want)"
      ]
    },
    {
      "cell_type": "code",
      "metadata": {
        "id": "eWFSmudpgDzz",
        "colab": {
          "base_uri": "https://localhost:8080/",
          "height": 36
        },
        "outputId": "d693c242-3906-4815-dd7e-2851f9711195"
      },
      "source": [
        "# code in this cell from: \n",
        "# https://stackoverflow.com/questions/27934885/how-to-hide-code-from-cells-in-ipython-notebook-visualized-with-nbviewer\n",
        "from IPython.display import HTML\n",
        "\n",
        "HTML('''<script>\n",
        "code_show=true; \n",
        "function code_toggle() {\n",
        " if (code_show){\n",
        " $('div.input').hide();\n",
        " } else {\n",
        " $('div.input').show();\n",
        " }\n",
        " code_show = !code_show\n",
        "} \n",
        "$( document ).ready(code_toggle);\n",
        "</script>\n",
        "<form action=\"javascript:code_toggle()\"><input type=\"submit\" value=\"Click here to display/hide the code.\"></form>''')"
      ],
      "execution_count": null,
      "outputs": [
        {
          "output_type": "execute_result",
          "data": {
            "text/html": [
              "<script>\n",
              "code_show=true; \n",
              "function code_toggle() {\n",
              " if (code_show){\n",
              " $('div.input').hide();\n",
              " } else {\n",
              " $('div.input').show();\n",
              " }\n",
              " code_show = !code_show\n",
              "} \n",
              "$( document ).ready(code_toggle);\n",
              "</script>\n",
              "<form action=\"javascript:code_toggle()\"><input type=\"submit\" value=\"Click here to display/hide the code.\"></form>"
            ],
            "text/plain": [
              "<IPython.core.display.HTML object>"
            ]
          },
          "metadata": {
            "tags": []
          },
          "execution_count": 1
        }
      ]
    },
    {
      "cell_type": "code",
      "metadata": {
        "id": "VXqyVUaQgDz2"
      },
      "source": [
        "import numpy as np\n",
        "import pandas as pd\n",
        "from sklearn.linear_model import LinearRegression\n",
        "from sklearn.model_selection import train_test_split\n",
        "from sklearn.preprocessing import StandardScaler\n",
        "from sklearn.decomposition import PCA\n",
        "from sklearn.ensemble import GradientBoostingRegressor\n",
        "import matplotlib.pyplot as plt"
      ],
      "execution_count": null,
      "outputs": []
    },
    {
      "cell_type": "code",
      "metadata": {
        "id": "SJ_sSeqigDz4"
      },
      "source": [
        "np.random.seed(0)"
      ],
      "execution_count": null,
      "outputs": []
    },
    {
      "cell_type": "code",
      "metadata": {
        "id": "SG6LCSVPgDz6"
      },
      "source": [
        "df = pd.read_csv('https://raw.githubusercontent.com/grbruns/cst383/master/diamonds.csv')\n",
        "df.drop(df.columns[0], axis=1, inplace=True)"
      ],
      "execution_count": null,
      "outputs": []
    },
    {
      "cell_type": "code",
      "metadata": {
        "id": "G_mBCEefgDz8",
        "colab": {
          "base_uri": "https://localhost:8080/"
        },
        "outputId": "7ae7e852-8e64-4f4d-b762-7c3534ff0081"
      },
      "source": [
        "df.info()"
      ],
      "execution_count": null,
      "outputs": [
        {
          "output_type": "stream",
          "text": [
            "<class 'pandas.core.frame.DataFrame'>\n",
            "RangeIndex: 53940 entries, 0 to 53939\n",
            "Data columns (total 10 columns):\n",
            " #   Column   Non-Null Count  Dtype  \n",
            "---  ------   --------------  -----  \n",
            " 0   carat    53940 non-null  float64\n",
            " 1   cut      53940 non-null  object \n",
            " 2   color    53940 non-null  object \n",
            " 3   clarity  53940 non-null  object \n",
            " 4   depth    53940 non-null  float64\n",
            " 5   table    53940 non-null  float64\n",
            " 6   price    53940 non-null  int64  \n",
            " 7   x        53940 non-null  float64\n",
            " 8   y        53940 non-null  float64\n",
            " 9   z        53940 non-null  float64\n",
            "dtypes: float64(6), int64(1), object(3)\n",
            "memory usage: 4.1+ MB\n"
          ],
          "name": "stdout"
        }
      ]
    },
    {
      "cell_type": "code",
      "metadata": {
        "id": "p50DKm2SgDz_",
        "colab": {
          "base_uri": "https://localhost:8080/",
          "height": 204
        },
        "outputId": "ede9f5b2-4d2d-440e-a528-0e1a563577bc"
      },
      "source": [
        "df.head()"
      ],
      "execution_count": null,
      "outputs": [
        {
          "output_type": "execute_result",
          "data": {
            "text/html": [
              "<div>\n",
              "<style scoped>\n",
              "    .dataframe tbody tr th:only-of-type {\n",
              "        vertical-align: middle;\n",
              "    }\n",
              "\n",
              "    .dataframe tbody tr th {\n",
              "        vertical-align: top;\n",
              "    }\n",
              "\n",
              "    .dataframe thead th {\n",
              "        text-align: right;\n",
              "    }\n",
              "</style>\n",
              "<table border=\"1\" class=\"dataframe\">\n",
              "  <thead>\n",
              "    <tr style=\"text-align: right;\">\n",
              "      <th></th>\n",
              "      <th>carat</th>\n",
              "      <th>cut</th>\n",
              "      <th>color</th>\n",
              "      <th>clarity</th>\n",
              "      <th>depth</th>\n",
              "      <th>table</th>\n",
              "      <th>price</th>\n",
              "      <th>x</th>\n",
              "      <th>y</th>\n",
              "      <th>z</th>\n",
              "    </tr>\n",
              "  </thead>\n",
              "  <tbody>\n",
              "    <tr>\n",
              "      <th>0</th>\n",
              "      <td>0.23</td>\n",
              "      <td>Ideal</td>\n",
              "      <td>E</td>\n",
              "      <td>SI2</td>\n",
              "      <td>61.5</td>\n",
              "      <td>55.0</td>\n",
              "      <td>326</td>\n",
              "      <td>3.95</td>\n",
              "      <td>3.98</td>\n",
              "      <td>2.43</td>\n",
              "    </tr>\n",
              "    <tr>\n",
              "      <th>1</th>\n",
              "      <td>0.21</td>\n",
              "      <td>Premium</td>\n",
              "      <td>E</td>\n",
              "      <td>SI1</td>\n",
              "      <td>59.8</td>\n",
              "      <td>61.0</td>\n",
              "      <td>326</td>\n",
              "      <td>3.89</td>\n",
              "      <td>3.84</td>\n",
              "      <td>2.31</td>\n",
              "    </tr>\n",
              "    <tr>\n",
              "      <th>2</th>\n",
              "      <td>0.23</td>\n",
              "      <td>Good</td>\n",
              "      <td>E</td>\n",
              "      <td>VS1</td>\n",
              "      <td>56.9</td>\n",
              "      <td>65.0</td>\n",
              "      <td>327</td>\n",
              "      <td>4.05</td>\n",
              "      <td>4.07</td>\n",
              "      <td>2.31</td>\n",
              "    </tr>\n",
              "    <tr>\n",
              "      <th>3</th>\n",
              "      <td>0.29</td>\n",
              "      <td>Premium</td>\n",
              "      <td>I</td>\n",
              "      <td>VS2</td>\n",
              "      <td>62.4</td>\n",
              "      <td>58.0</td>\n",
              "      <td>334</td>\n",
              "      <td>4.20</td>\n",
              "      <td>4.23</td>\n",
              "      <td>2.63</td>\n",
              "    </tr>\n",
              "    <tr>\n",
              "      <th>4</th>\n",
              "      <td>0.31</td>\n",
              "      <td>Good</td>\n",
              "      <td>J</td>\n",
              "      <td>SI2</td>\n",
              "      <td>63.3</td>\n",
              "      <td>58.0</td>\n",
              "      <td>335</td>\n",
              "      <td>4.34</td>\n",
              "      <td>4.35</td>\n",
              "      <td>2.75</td>\n",
              "    </tr>\n",
              "  </tbody>\n",
              "</table>\n",
              "</div>"
            ],
            "text/plain": [
              "   carat      cut color clarity  depth  table  price     x     y     z\n",
              "0   0.23    Ideal     E     SI2   61.5   55.0    326  3.95  3.98  2.43\n",
              "1   0.21  Premium     E     SI1   59.8   61.0    326  3.89  3.84  2.31\n",
              "2   0.23     Good     E     VS1   56.9   65.0    327  4.05  4.07  2.31\n",
              "3   0.29  Premium     I     VS2   62.4   58.0    334  4.20  4.23  2.63\n",
              "4   0.31     Good     J     SI2   63.3   58.0    335  4.34  4.35  2.75"
            ]
          },
          "metadata": {
            "tags": []
          },
          "execution_count": 6
        }
      ]
    },
    {
      "cell_type": "code",
      "metadata": {
        "id": "UOZD_dmxgD0B",
        "colab": {
          "base_uri": "https://localhost:8080/"
        },
        "outputId": "b340c479-d700-47ea-a258-105669b9c323"
      },
      "source": [
        "# convert categorical variables to numeric\n",
        "df = pd.get_dummies(df, drop_first=True)\n",
        "df.info()"
      ],
      "execution_count": null,
      "outputs": [
        {
          "output_type": "stream",
          "text": [
            "<class 'pandas.core.frame.DataFrame'>\n",
            "RangeIndex: 53940 entries, 0 to 53939\n",
            "Data columns (total 24 columns):\n",
            " #   Column         Non-Null Count  Dtype  \n",
            "---  ------         --------------  -----  \n",
            " 0   carat          53940 non-null  float64\n",
            " 1   depth          53940 non-null  float64\n",
            " 2   table          53940 non-null  float64\n",
            " 3   price          53940 non-null  int64  \n",
            " 4   x              53940 non-null  float64\n",
            " 5   y              53940 non-null  float64\n",
            " 6   z              53940 non-null  float64\n",
            " 7   cut_Good       53940 non-null  uint8  \n",
            " 8   cut_Ideal      53940 non-null  uint8  \n",
            " 9   cut_Premium    53940 non-null  uint8  \n",
            " 10  cut_Very Good  53940 non-null  uint8  \n",
            " 11  color_E        53940 non-null  uint8  \n",
            " 12  color_F        53940 non-null  uint8  \n",
            " 13  color_G        53940 non-null  uint8  \n",
            " 14  color_H        53940 non-null  uint8  \n",
            " 15  color_I        53940 non-null  uint8  \n",
            " 16  color_J        53940 non-null  uint8  \n",
            " 17  clarity_IF     53940 non-null  uint8  \n",
            " 18  clarity_SI1    53940 non-null  uint8  \n",
            " 19  clarity_SI2    53940 non-null  uint8  \n",
            " 20  clarity_VS1    53940 non-null  uint8  \n",
            " 21  clarity_VS2    53940 non-null  uint8  \n",
            " 22  clarity_VVS1   53940 non-null  uint8  \n",
            " 23  clarity_VVS2   53940 non-null  uint8  \n",
            "dtypes: float64(6), int64(1), uint8(17)\n",
            "memory usage: 3.8 MB\n"
          ],
          "name": "stdout"
        }
      ]
    },
    {
      "cell_type": "code",
      "metadata": {
        "id": "RzzsRhA8gD0E",
        "colab": {
          "base_uri": "https://localhost:8080/",
          "height": 241
        },
        "outputId": "8ac36cc4-31b6-4cb6-a18a-fc60daeb27e8"
      },
      "source": [
        "df.head()"
      ],
      "execution_count": null,
      "outputs": [
        {
          "output_type": "execute_result",
          "data": {
            "text/html": [
              "<div>\n",
              "<style scoped>\n",
              "    .dataframe tbody tr th:only-of-type {\n",
              "        vertical-align: middle;\n",
              "    }\n",
              "\n",
              "    .dataframe tbody tr th {\n",
              "        vertical-align: top;\n",
              "    }\n",
              "\n",
              "    .dataframe thead th {\n",
              "        text-align: right;\n",
              "    }\n",
              "</style>\n",
              "<table border=\"1\" class=\"dataframe\">\n",
              "  <thead>\n",
              "    <tr style=\"text-align: right;\">\n",
              "      <th></th>\n",
              "      <th>carat</th>\n",
              "      <th>depth</th>\n",
              "      <th>table</th>\n",
              "      <th>price</th>\n",
              "      <th>x</th>\n",
              "      <th>y</th>\n",
              "      <th>z</th>\n",
              "      <th>cut_Good</th>\n",
              "      <th>cut_Ideal</th>\n",
              "      <th>cut_Premium</th>\n",
              "      <th>cut_Very Good</th>\n",
              "      <th>color_E</th>\n",
              "      <th>color_F</th>\n",
              "      <th>color_G</th>\n",
              "      <th>color_H</th>\n",
              "      <th>color_I</th>\n",
              "      <th>color_J</th>\n",
              "      <th>clarity_IF</th>\n",
              "      <th>clarity_SI1</th>\n",
              "      <th>clarity_SI2</th>\n",
              "      <th>clarity_VS1</th>\n",
              "      <th>clarity_VS2</th>\n",
              "      <th>clarity_VVS1</th>\n",
              "      <th>clarity_VVS2</th>\n",
              "    </tr>\n",
              "  </thead>\n",
              "  <tbody>\n",
              "    <tr>\n",
              "      <th>0</th>\n",
              "      <td>0.23</td>\n",
              "      <td>61.5</td>\n",
              "      <td>55.0</td>\n",
              "      <td>326</td>\n",
              "      <td>3.95</td>\n",
              "      <td>3.98</td>\n",
              "      <td>2.43</td>\n",
              "      <td>0</td>\n",
              "      <td>1</td>\n",
              "      <td>0</td>\n",
              "      <td>0</td>\n",
              "      <td>1</td>\n",
              "      <td>0</td>\n",
              "      <td>0</td>\n",
              "      <td>0</td>\n",
              "      <td>0</td>\n",
              "      <td>0</td>\n",
              "      <td>0</td>\n",
              "      <td>0</td>\n",
              "      <td>1</td>\n",
              "      <td>0</td>\n",
              "      <td>0</td>\n",
              "      <td>0</td>\n",
              "      <td>0</td>\n",
              "    </tr>\n",
              "    <tr>\n",
              "      <th>1</th>\n",
              "      <td>0.21</td>\n",
              "      <td>59.8</td>\n",
              "      <td>61.0</td>\n",
              "      <td>326</td>\n",
              "      <td>3.89</td>\n",
              "      <td>3.84</td>\n",
              "      <td>2.31</td>\n",
              "      <td>0</td>\n",
              "      <td>0</td>\n",
              "      <td>1</td>\n",
              "      <td>0</td>\n",
              "      <td>1</td>\n",
              "      <td>0</td>\n",
              "      <td>0</td>\n",
              "      <td>0</td>\n",
              "      <td>0</td>\n",
              "      <td>0</td>\n",
              "      <td>0</td>\n",
              "      <td>1</td>\n",
              "      <td>0</td>\n",
              "      <td>0</td>\n",
              "      <td>0</td>\n",
              "      <td>0</td>\n",
              "      <td>0</td>\n",
              "    </tr>\n",
              "    <tr>\n",
              "      <th>2</th>\n",
              "      <td>0.23</td>\n",
              "      <td>56.9</td>\n",
              "      <td>65.0</td>\n",
              "      <td>327</td>\n",
              "      <td>4.05</td>\n",
              "      <td>4.07</td>\n",
              "      <td>2.31</td>\n",
              "      <td>1</td>\n",
              "      <td>0</td>\n",
              "      <td>0</td>\n",
              "      <td>0</td>\n",
              "      <td>1</td>\n",
              "      <td>0</td>\n",
              "      <td>0</td>\n",
              "      <td>0</td>\n",
              "      <td>0</td>\n",
              "      <td>0</td>\n",
              "      <td>0</td>\n",
              "      <td>0</td>\n",
              "      <td>0</td>\n",
              "      <td>1</td>\n",
              "      <td>0</td>\n",
              "      <td>0</td>\n",
              "      <td>0</td>\n",
              "    </tr>\n",
              "    <tr>\n",
              "      <th>3</th>\n",
              "      <td>0.29</td>\n",
              "      <td>62.4</td>\n",
              "      <td>58.0</td>\n",
              "      <td>334</td>\n",
              "      <td>4.20</td>\n",
              "      <td>4.23</td>\n",
              "      <td>2.63</td>\n",
              "      <td>0</td>\n",
              "      <td>0</td>\n",
              "      <td>1</td>\n",
              "      <td>0</td>\n",
              "      <td>0</td>\n",
              "      <td>0</td>\n",
              "      <td>0</td>\n",
              "      <td>0</td>\n",
              "      <td>1</td>\n",
              "      <td>0</td>\n",
              "      <td>0</td>\n",
              "      <td>0</td>\n",
              "      <td>0</td>\n",
              "      <td>0</td>\n",
              "      <td>1</td>\n",
              "      <td>0</td>\n",
              "      <td>0</td>\n",
              "    </tr>\n",
              "    <tr>\n",
              "      <th>4</th>\n",
              "      <td>0.31</td>\n",
              "      <td>63.3</td>\n",
              "      <td>58.0</td>\n",
              "      <td>335</td>\n",
              "      <td>4.34</td>\n",
              "      <td>4.35</td>\n",
              "      <td>2.75</td>\n",
              "      <td>1</td>\n",
              "      <td>0</td>\n",
              "      <td>0</td>\n",
              "      <td>0</td>\n",
              "      <td>0</td>\n",
              "      <td>0</td>\n",
              "      <td>0</td>\n",
              "      <td>0</td>\n",
              "      <td>0</td>\n",
              "      <td>1</td>\n",
              "      <td>0</td>\n",
              "      <td>0</td>\n",
              "      <td>1</td>\n",
              "      <td>0</td>\n",
              "      <td>0</td>\n",
              "      <td>0</td>\n",
              "      <td>0</td>\n",
              "    </tr>\n",
              "  </tbody>\n",
              "</table>\n",
              "</div>"
            ],
            "text/plain": [
              "   carat  depth  table  ...  clarity_VS2  clarity_VVS1  clarity_VVS2\n",
              "0   0.23   61.5   55.0  ...            0             0             0\n",
              "1   0.21   59.8   61.0  ...            0             0             0\n",
              "2   0.23   56.9   65.0  ...            0             0             0\n",
              "3   0.29   62.4   58.0  ...            1             0             0\n",
              "4   0.31   63.3   58.0  ...            0             0             0\n",
              "\n",
              "[5 rows x 24 columns]"
            ]
          },
          "metadata": {
            "tags": []
          },
          "execution_count": 8
        }
      ]
    },
    {
      "cell_type": "markdown",
      "metadata": {
        "id": "gCtOm5fygD0G"
      },
      "source": [
        "### Preprocess data"
      ]
    },
    {
      "cell_type": "code",
      "metadata": {
        "id": "v4sE1zdJgD0G",
        "colab": {
          "base_uri": "https://localhost:8080/"
        },
        "outputId": "5c90ab84-b55a-4bbf-b0cf-1cab7393c6d0"
      },
      "source": [
        "target = 'price'\n",
        "predictors = list(df.columns)\n",
        "predictors.remove(target)\n",
        "\n",
        "X = df[predictors].values\n",
        "y = df[target].values\n",
        "\n",
        "print(predictors)\n",
        "print(X.shape)"
      ],
      "execution_count": null,
      "outputs": [
        {
          "output_type": "stream",
          "text": [
            "['carat', 'depth', 'table', 'x', 'y', 'z', 'cut_Good', 'cut_Ideal', 'cut_Premium', 'cut_Very Good', 'color_E', 'color_F', 'color_G', 'color_H', 'color_I', 'color_J', 'clarity_IF', 'clarity_SI1', 'clarity_SI2', 'clarity_VS1', 'clarity_VS2', 'clarity_VVS1', 'clarity_VVS2']\n",
            "(53940, 23)\n"
          ],
          "name": "stdout"
        }
      ]
    },
    {
      "cell_type": "markdown",
      "metadata": {
        "id": "MZcCR9NHgD0I"
      },
      "source": [
        "### Apply PCA"
      ]
    },
    {
      "cell_type": "markdown",
      "metadata": {
        "id": "5RCEzpzzgD0I"
      },
      "source": [
        "#### Problem 1\n",
        "\n",
        "Apply PCA to X.  Compute the cumulative sum of the explained variance ratio for the number of principal components.  Note the 'explained_variance_ratio_' attribute of a PCA object."
      ]
    },
    {
      "cell_type": "code",
      "metadata": {
        "id": "_D1qUDA4gD0J"
      },
      "source": [
        "pca = PCA()\n",
        "pca.fit(X)\n",
        "cumsum = np.cumsum(pca.explained_variance_ratio_)"
      ],
      "execution_count": null,
      "outputs": []
    },
    {
      "cell_type": "code",
      "metadata": {
        "id": "pKNLGPjcgD0L",
        "colab": {
          "base_uri": "https://localhost:8080/"
        },
        "outputId": "b04f2fa0-1d3a-4628-a90c-5e79dfed2d19"
      },
      "source": [
        "print(np.round(cumsum, decimals=3))"
      ],
      "execution_count": null,
      "outputs": [
        {
          "output_type": "stream",
          "text": [
            "[0.446 0.688 0.83  0.849 0.867 0.885 0.902 0.917 0.931 0.943 0.955 0.964\n",
            " 0.972 0.98  0.985 0.99  0.993 0.996 0.997 0.999 0.999 1.    1.   ]\n"
          ],
          "name": "stdout"
        }
      ]
    },
    {
      "cell_type": "markdown",
      "metadata": {
        "id": "aVwKfpUfgD0N"
      },
      "source": [
        "We are interested in the number of components needed to reach a value of explained variance ratio close to one, and also whether there is a clear elbow in the curve."
      ]
    },
    {
      "cell_type": "markdown",
      "metadata": {
        "id": "5i5CYgXvgD0N"
      },
      "source": [
        "#### Problem 2\n",
        "\n",
        "Plot the cumulative sum as a function of the number of principal."
      ]
    },
    {
      "cell_type": "code",
      "metadata": {
        "id": "kGonhua7gD0N",
        "colab": {
          "base_uri": "https://localhost:8080/",
          "height": 295
        },
        "outputId": "9836c32d-6808-4ffb-a16e-86a281684701"
      },
      "source": [
        "plt.plot(cumsum)\n",
        "plt.title('Explained varience ratio by number of principal components')\n",
        "plt.xlabel('Number of principal components')\n",
        "plt.ylabel('Explained variance ratio');"
      ],
      "execution_count": null,
      "outputs": [
        {
          "output_type": "display_data",
          "data": {
            "image/png": "[encoded data removed]",
            "text/plain": [
              "<Figure size 432x288 with 1 Axes>"
            ]
          },
          "metadata": {
            "tags": [],
            "needs_background": "light"
          }
        }
      ]
    },
    {
      "cell_type": "markdown",
      "metadata": {
        "id": "ZVkdySTGgD0P"
      },
      "source": [
        "### Reduce the data as needed to achieve at least 0.95 explained variance ratio"
      ]
    },
    {
      "cell_type": "markdown",
      "metadata": {
        "id": "E-hqMuYNgD0Q"
      },
      "source": [
        "#### Problem 3\n",
        "\n",
        "Compute NumPy array X_reduced, which is the version of with PCA and just enough of the principal components used to reach at least 0.95 explained variance ratio."
      ]
    },
    {
      "cell_type": "code",
      "metadata": {
        "id": "dCzxiPpcgD0Q"
      },
      "source": [
        "X_reduced = PCA(n_components= 0.95).fit_transform(X)"
      ],
      "execution_count": null,
      "outputs": []
    },
    {
      "cell_type": "code",
      "metadata": {
        "id": "Ah_BotyKgD0S",
        "colab": {
          "base_uri": "https://localhost:8080/"
        },
        "outputId": "ac961625-93db-46bb-c121-4123e0134c0f"
      },
      "source": [
        "print('Number of principal components needed for 0.95 explained variance ratio: ', X_reduced.shape[1])"
      ],
      "execution_count": null,
      "outputs": [
        {
          "output_type": "stream",
          "text": [
            "Number of principal components needed for 0.95 explained variance ratio:  11\n"
          ],
          "name": "stdout"
        }
      ]
    },
    {
      "cell_type": "markdown",
      "metadata": {
        "id": "kIhZ87e1gD0U"
      },
      "source": [
        "### Use linear regression to predict price"
      ]
    },
    {
      "cell_type": "code",
      "metadata": {
        "id": "v4LRPoQ6gD0V"
      },
      "source": [
        "X_train, X_test, y_train, y_test = train_test_split(X, y, test_size=0.3, random_state=0)"
      ],
      "execution_count": null,
      "outputs": []
    },
    {
      "cell_type": "markdown",
      "metadata": {
        "id": "F7YnbYL9gD0Y"
      },
      "source": [
        "#### Problem 4\n",
        "\n",
        "Use linear regression on the full data set. Compute the RMSE on the test set."
      ]
    },
    {
      "cell_type": "code",
      "metadata": {
        "id": "owWAaHdjgD0Z"
      },
      "source": [
        "# YOUR CODE HERE\n",
        "regr = LinearRegression()\n",
        "regr.fit(X_train, y_train)\n",
        "rmse = np.sqrt(((y_test - regr.predict(X_test))**2).mean())"
      ],
      "execution_count": null,
      "outputs": []
    },
    {
      "cell_type": "code",
      "metadata": {
        "id": "5RKdJ4_lgD0b",
        "colab": {
          "base_uri": "https://localhost:8080/"
        },
        "outputId": "76f3107d-be63-4721-c28e-d4e39b042ce4"
      },
      "source": [
        "print('RMSE: {:.1f}'.format(rmse))\n",
        "print('R squared: {:.3f}'.format(regr.score(X_test, y_test)))"
      ],
      "execution_count": null,
      "outputs": [
        {
          "output_type": "stream",
          "text": [
            "RMSE: 1122.1\n",
            "R squared: 0.921\n"
          ],
          "name": "stdout"
        }
      ]
    },
    {
      "cell_type": "markdown",
      "metadata": {
        "id": "S_4Yj11tgD0d"
      },
      "source": [
        "### Try again, but this time with the reduced data"
      ]
    },
    {
      "cell_type": "code",
      "metadata": {
        "id": "yLqAll3SgD0d"
      },
      "source": [
        "X_train, X_test, y_train, y_test = train_test_split(X_reduced, y, test_size=0.3, random_state=0)"
      ],
      "execution_count": null,
      "outputs": []
    },
    {
      "cell_type": "markdown",
      "metadata": {
        "id": "ZDhSPN4lgD0f"
      },
      "source": [
        "#### Problem 5\n",
        "\n",
        "Use linear regression on the reduced data set. Compute the RMSE on the reduced test set."
      ]
    },
    {
      "cell_type": "code",
      "metadata": {
        "id": "62sqd3uYgD0f"
      },
      "source": [
        "regr.fit(X_train, y_train)\n",
        "rmse = np.sqrt(((y_test - regr.predict(X_test))**2).mean())"
      ],
      "execution_count": null,
      "outputs": []
    },
    {
      "cell_type": "markdown",
      "metadata": {
        "id": "VMfMlmOMgD0h"
      },
      "source": [
        "We see a significant drop in RMSE when using the reduced data."
      ]
    },
    {
      "cell_type": "code",
      "metadata": {
        "id": "Qo1UR2GmgD0h",
        "colab": {
          "base_uri": "https://localhost:8080/"
        },
        "outputId": "a183de84-a060-4718-b770-916aee0c377a"
      },
      "source": [
        "print('RMSE: {:.1f}'.format(rmse))\n",
        "print('R squared: {:.3f}'.format(regr.score(X_test, y_test)))"
      ],
      "execution_count": null,
      "outputs": [
        {
          "output_type": "stream",
          "text": [
            "RMSE: 1778.1\n",
            "R squared: 0.801\n"
          ],
          "name": "stdout"
        }
      ]
    },
    {
      "cell_type": "markdown",
      "metadata": {
        "id": "l4rwWOOCgD0j"
      },
      "source": [
        "### Plot MSE as a function of the number of principal components"
      ]
    },
    {
      "cell_type": "markdown",
      "metadata": {
        "id": "EEnVP2ongD0k"
      },
      "source": [
        "PCA is an unsupervised learning method: it does not reduced dimensionality in a way that takes into account what we want to do with the data.\n",
        "Let's see how test error with linear regression changes as a function of the number of principal components that are used."
      ]
    },
    {
      "cell_type": "markdown",
      "metadata": {
        "id": "Z_VRiHwGgD0k"
      },
      "source": [
        "#### Problem 6\n",
        "\n",
        "Compute a list (or array) num_components, which will contain the numbers from 1 to the number columns in X, and a list (or array) rmse, which will contain the test RMSE for the corresponding value in num_components.  \n",
        "\n",
        "For example, the first value in num_components will be 1, and the first value in rmse will be the test RMSE for the predictions of linear regression when trained on the first principal component.\n",
        "\n",
        "I imagine you will write a loop, with fit() and predict() operations applied in the loop to a LinearRegression object.\n",
        "\n",
        "DO NOT compute PCA within the loop -- it does not need to be done in the loop and will slow things down a lot."
      ]
    },
    {
      "cell_type": "code",
      "metadata": {
        "id": "EaGa4P7BgD0l"
      },
      "source": [
        "num_components = np.arange(1, X.shape[1] + 1)\n",
        "rmse = []\n",
        "for i in range(len(num_components)):\n",
        "  X_pca = PCA(n_components = i + 1).fit_transform(X)\n",
        "  X_train, X_test, y_train, y_test = train_test_split(X_pca, y, test_size=0.3, random_state=0)\n",
        "  regr.fit(X_train, y_train)\n",
        "  rmse.append(np.sqrt(((y_test - regr.predict(X_test))**2).mean()))"
      ],
      "execution_count": null,
      "outputs": []
    },
    {
      "cell_type": "markdown",
      "metadata": {
        "id": "HzBX6-6agD0n"
      },
      "source": [
        "This plot is interesting.  It shows an elbow but at a different number of principal components than in the plot of explained variance ratio."
      ]
    },
    {
      "cell_type": "code",
      "metadata": {
        "id": "Hk3hP2NPgD0n",
        "colab": {
          "base_uri": "https://localhost:8080/",
          "height": 295
        },
        "outputId": "02673c57-cad2-43cb-bdb8-e396556da254"
      },
      "source": [
        "plt.plot(num_components, rmse)\n",
        "plt.title('Test RMSE by number of principal components, linear regression')\n",
        "plt.xlabel('Number of principal components')\n",
        "plt.ylabel('RMSE');"
      ],
      "execution_count": null,
      "outputs": [
        {
          "output_type": "display_data",
          "data": {
            "image/png": "[encoded data removed]",
            "text/plain": [
              "<Figure size 432x288 with 1 Axes>"
            ]
          },
          "metadata": {
            "tags": [],
            "needs_background": "light"
          }
        }
      ]
    },
    {
      "cell_type": "markdown",
      "metadata": {
        "id": "5lwEL0IXgD0p"
      },
      "source": [
        "### Gradient boosting"
      ]
    },
    {
      "cell_type": "markdown",
      "metadata": {
        "id": "M5DU1jOAgD0q"
      },
      "source": [
        "Finally, let's take this opportunity to try gradient boosting.  This algorithm has many hyperparameters, but let's start with using default values except for n_estimators, which has a default of 100.  With 20 the algorithm will run faster, and this data set is not large, so we may not need many estimators."
      ]
    },
    {
      "cell_type": "code",
      "metadata": {
        "id": "7_b3uiW0gD0q"
      },
      "source": [
        "X_train, X_test, y_train, y_test = train_test_split(X, y, test_size=0.25, random_state=0)"
      ],
      "execution_count": null,
      "outputs": []
    },
    {
      "cell_type": "markdown",
      "metadata": {
        "id": "6Eu1cqtpgD0s"
      },
      "source": [
        "#### Problem 7\n",
        "\n",
        "Create a gradient boosting regressor with hyperparameter n_estimators set to 20.  Train your regressor, make predictions on the test data, and compute test RMSE as variable rmse."
      ]
    },
    {
      "cell_type": "code",
      "metadata": {
        "id": "AZqI9Og_gD0s"
      },
      "source": [
        "regr = GradientBoostingRegressor(n_estimators=20)\n",
        "regr.fit(X_train, y_train)\n",
        "rmse = np.sqrt(((y_test - regr.predict(X_test))**2).mean())"
      ],
      "execution_count": null,
      "outputs": []
    },
    {
      "cell_type": "markdown",
      "metadata": {
        "id": "-cqdYrfCgD0u"
      },
      "source": [
        "Interesting: not as good as linear regression in this case!"
      ]
    },
    {
      "cell_type": "code",
      "metadata": {
        "id": "VOWmdRzbgD0u",
        "colab": {
          "base_uri": "https://localhost:8080/"
        },
        "outputId": "3852d9a6-a4db-4137-d705-0cb0eaf6246e"
      },
      "source": [
        "print('RMSE: {:.1f}'.format(rmse))\n",
        "print('R squared: {:.3f}'.format(regr.score(X_test, y_test)))"
      ],
      "execution_count": null,
      "outputs": [
        {
          "output_type": "stream",
          "text": [
            "RMSE: 1322.5\n",
            "R squared: 0.890\n"
          ],
          "name": "stdout"
        }
      ]
    },
    {
      "cell_type": "markdown",
      "metadata": {
        "id": "nDAF54T5gD0w"
      },
      "source": [
        "Let's try again, but with 200 estimators."
      ]
    },
    {
      "cell_type": "markdown",
      "metadata": {
        "id": "QbMc2901gD0w"
      },
      "source": [
        "#### Problem 8\n",
        "\n",
        "This is the same as the last problem, but use 200 for hyperparameter n_estimators."
      ]
    },
    {
      "cell_type": "code",
      "metadata": {
        "id": "DpSYysjPgD0w"
      },
      "source": [
        "regr = GradientBoostingRegressor(n_estimators=200)\n",
        "regr.fit(X_train, y_train)\n",
        "rmse = np.sqrt(((y_test - regr.predict(X_test))**2).mean())"
      ],
      "execution_count": null,
      "outputs": []
    },
    {
      "cell_type": "markdown",
      "metadata": {
        "id": "pE3UClJ9gD0z"
      },
      "source": [
        "Now we do significantly better than linear regression."
      ]
    },
    {
      "cell_type": "code",
      "metadata": {
        "id": "xLdnj8gFgD0z",
        "colab": {
          "base_uri": "https://localhost:8080/"
        },
        "outputId": "f395986f-38b2-4ca8-909f-1b18d9d30b58"
      },
      "source": [
        "print('RMSE: {:.1f}'.format(rmse))\n",
        "print('R squared: {:.3f}'.format(regr.score(X_test, y_test)))"
      ],
      "execution_count": null,
      "outputs": [
        {
          "output_type": "stream",
          "text": [
            "RMSE: 797.7\n",
            "R squared: 0.960\n"
          ],
          "name": "stdout"
        }
      ]
    },
    {
      "cell_type": "markdown",
      "metadata": {
        "id": "HheCIOMhgD01"
      },
      "source": [
        "Again, but with 500 estimators."
      ]
    },
    {
      "cell_type": "markdown",
      "metadata": {
        "id": "VxxRCCS5gD01"
      },
      "source": [
        "#### Problem 9\n",
        "\n",
        "This is the same as the last problem, but use 500 for hyperparameter n_estimators.  This may take a minute to train, depending on your machine."
      ]
    },
    {
      "cell_type": "code",
      "metadata": {
        "id": "2vV1l3NSgD01"
      },
      "source": [
        "regr = GradientBoostingRegressor(n_estimators=500)\n",
        "regr.fit(X_train, y_train)\n",
        "rmse = np.sqrt(((y_test - regr.predict(X_test))**2).mean())"
      ],
      "execution_count": null,
      "outputs": []
    },
    {
      "cell_type": "code",
      "metadata": {
        "id": "uTUxsrsdgD03",
        "colab": {
          "base_uri": "https://localhost:8080/"
        },
        "outputId": "6babdc90-9691-46e9-f595-9f566da91a26"
      },
      "source": [
        "print('RMSE: {:.1f}'.format(rmse))\n",
        "print('R squared: {:.3f}'.format(regr.score(X_test, y_test)))"
      ],
      "execution_count": null,
      "outputs": [
        {
          "output_type": "stream",
          "text": [
            "RMSE: 702.5\n",
            "R squared: 0.969\n"
          ],
          "name": "stdout"
        }
      ]
    },
    {
      "cell_type": "markdown",
      "metadata": {
        "id": "f4xGDiaegD05"
      },
      "source": [
        "As one final test, let's increase the maximum depth of the estimators (which are regression trees).  The default value is 3, so let's try 4 and also change n_estimators to 100."
      ]
    },
    {
      "cell_type": "markdown",
      "metadata": {
        "id": "6bQQSnRZgD06"
      },
      "source": [
        "#### Problem 10\n",
        "\n",
        "This is the same as the last problem, but use 100 for hyperparameter n_estimators, and use 4 for hyperparameter max_depth. "
      ]
    },
    {
      "cell_type": "code",
      "metadata": {
        "id": "BTjKA4v3gD06"
      },
      "source": [
        "regr = GradientBoostingRegressor(n_estimators=100, max_depth=4)\n",
        "regr.fit(X_train, y_train)\n",
        "rmse = np.sqrt(((y_test - regr.predict(X_test))**2).mean())"
      ],
      "execution_count": null,
      "outputs": []
    },
    {
      "cell_type": "markdown",
      "metadata": {
        "id": "O9cKnUxTgD07"
      },
      "source": [
        "The result is similar to what we got with 200 estimators and a max_depth of 3."
      ]
    },
    {
      "cell_type": "code",
      "metadata": {
        "id": "aHWIhfBogD08",
        "colab": {
          "base_uri": "https://localhost:8080/"
        },
        "outputId": "93bcf9e8-43a3-446a-ecbc-e0cd2339923f"
      },
      "source": [
        "print('RMSE: {:.1f}'.format(rmse))\n",
        "print('R squared: {:.3f}'.format(regr.score(X_test, y_test)))"
      ],
      "execution_count": null,
      "outputs": [
        {
          "output_type": "stream",
          "text": [
            "RMSE: 784.0\n",
            "R squared: 0.962\n"
          ],
          "name": "stdout"
        }
      ]
    }
  ]
}