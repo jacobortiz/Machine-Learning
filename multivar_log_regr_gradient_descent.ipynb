{
  "nbformat": 4,
  "nbformat_minor": 0,
  "metadata": {
    "colab": {
      "name": "multivar_log_regr_gradient_descent.ipynb",
      "provenance": [],
      "collapsed_sections": []
    },
    "kernelspec": {
      "display_name": "Python 3",
      "language": "python",
      "name": "python3"
    },
    "language_info": {
      "codemirror_mode": {
        "name": "ipython",
        "version": 3
      },
      "file_extension": ".py",
      "mimetype": "text/x-python",
      "name": "python",
      "nbconvert_exporter": "python",
      "pygments_lexer": "ipython3",
      "version": "3.7.3"
    },
    "accelerator": "GPU"
  },
  "cells": [
    {
      "cell_type": "markdown",
      "metadata": {
        "id": "cm-Ca2tINtDv"
      },
      "source": [
        "# Logistic regression via gradient descent\n"
      ]
    },
    {
      "cell_type": "code",
      "metadata": {
        "id": "yZabxQdKDlmv"
      },
      "source": [
        "import numpy as np\n",
        "import pandas as pd\n",
        "import matplotlib.pyplot as plt\n",
        "from sklearn.preprocessing import StandardScaler\n",
        "from sklearn.linear_model import LogisticRegression\n",
        "import sys"
      ],
      "execution_count": null,
      "outputs": []
    },
    {
      "cell_type": "code",
      "metadata": {
        "id": "TnpNChehwsh0",
        "colab": {
          "base_uri": "https://localhost:8080/",
          "height": 36
        },
        "outputId": "f9d1d9d4-bae1-42db-8c73-00cdc41c8b1f"
      },
      "source": [
        "# code in this cell from: \n",
        "# https://stackoverflow.com/questions/27934885/how-to-hide-code-from-cells-in-ipython-notebook-visualized-with-nbviewer\n",
        "from IPython.display import HTML\n",
        "\n",
        "HTML('''<script>\n",
        "code_show=true; \n",
        "function code_toggle() {\n",
        " if (code_show){\n",
        " $('div.input').hide();\n",
        " } else {\n",
        " $('div.input').show();\n",
        " }\n",
        " code_show = !code_show\n",
        "} \n",
        "$( document ).ready(code_toggle);\n",
        "</script>\n",
        "<form action=\"javascript:code_toggle()\"><input type=\"submit\" value=\"Click here to display/hide the code.\"></form>''')"
      ],
      "execution_count": null,
      "outputs": [
        {
          "output_type": "execute_result",
          "data": {
            "text/html": [
              "<script>\n",
              "code_show=true; \n",
              "function code_toggle() {\n",
              " if (code_show){\n",
              " $('div.input').hide();\n",
              " } else {\n",
              " $('div.input').show();\n",
              " }\n",
              " code_show = !code_show\n",
              "} \n",
              "$( document ).ready(code_toggle);\n",
              "</script>\n",
              "<form action=\"javascript:code_toggle()\"><input type=\"submit\" value=\"Click here to display/hide the code.\"></form>"
            ],
            "text/plain": [
              "<IPython.core.display.HTML object>"
            ]
          },
          "metadata": {
            "tags": []
          },
          "execution_count": 2
        }
      ]
    },
    {
      "cell_type": "markdown",
      "metadata": {
        "id": "fXupxTtgIGVT"
      },
      "source": [
        "The random seed is set so results are repeatable."
      ]
    },
    {
      "cell_type": "code",
      "metadata": {
        "id": "fXhh1JbEIGVU"
      },
      "source": [
        "np.random.seed(0)"
      ],
      "execution_count": null,
      "outputs": []
    },
    {
      "cell_type": "markdown",
      "metadata": {
        "id": "NTbqZrhKKByW"
      },
      "source": [
        "## Gradients\n",
        "\n",
        "This code here is to compute the gradient of a function."
      ]
    },
    {
      "cell_type": "code",
      "metadata": {
        "id": "3qJFblGEIGVW"
      },
      "source": [
        "def partials_at_x(f, n, x):\n",
        "    h = 0.000001\n",
        "    y = f(x)\n",
        "    partial_derivs = np.zeros(n)\n",
        "    for i in range(n):\n",
        "        x[i] += h\n",
        "        yh = f(x)\n",
        "        x[i] -= h\n",
        "        partial_derivs[i] = yh - y\n",
        "    partial_derivs = partial_derivs/h\n",
        "    return partial_derivs\n",
        "    \n",
        "def gradient(f, n):\n",
        "    return lambda x: partials_at_x(f, n, x)"
      ],
      "execution_count": null,
      "outputs": []
    },
    {
      "cell_type": "code",
      "metadata": {
        "id": "8W5rWPnrKgsv",
        "colab": {
          "base_uri": "https://localhost:8080/",
          "height": 68
        },
        "outputId": "4ca24776-d15a-461b-d2fe-3941673ea304"
      },
      "source": [
        "# test the gradient() function\n",
        "\n",
        "def f(x):\n",
        "    return 2*x[0]**2 + x[0]*x[1]\n",
        "\n",
        "# print the gradient of f\n",
        "f_grad = gradient(f, 2)\n",
        "xs = [ np.array(x) for x in [[1.0, 2.0], [0.0, 0.0], [2.0, -1.0]] ]\n",
        "for x in xs:\n",
        "    print('x: {}, f_grad(x): {}'.format(x, f_grad(x)))"
      ],
      "execution_count": null,
      "outputs": [
        {
          "output_type": "stream",
          "text": [
            "x: [1. 2.], f_grad(x): [6.000002 1.      ]\n",
            "x: [0. 0.], f_grad(x): [2.e-06 0.e+00]\n",
            "x: [ 2. -1.], f_grad(x): [7.000002 2.      ]\n"
          ],
          "name": "stdout"
        }
      ]
    },
    {
      "cell_type": "markdown",
      "metadata": {
        "id": "Xv6-zzJ-_FSV"
      },
      "source": [
        "## Gradient descent\n",
        "\n",
        "In gradient descent we want to find the value of x that minimizes (or maximizes) a function f.  We do this by starting with some x, computing the value of the gradient of f at x, and then using that value to make an adjustment to x."
      ]
    },
    {
      "cell_type": "code",
      "metadata": {
        "id": "kLFYL_3U_JY9"
      },
      "source": [
        "def grad_descent(f, n, alpha=0.1, n_iterations=1000, threshold=0.001):\n",
        "  \"\"\" Returns the value x for which function f(x) is minimum, and also\n",
        "  the values of x along the path of gradient descent.  \n",
        "  The algorithm terminates when iteration limit is reach or when the\n",
        "  L1 norm of the change to x is below the threshold.  \"\"\"\n",
        "  \n",
        "  f_grad = gradient(f, n)\n",
        "\n",
        "  x = np.random.rand(n)           # note random starting point\n",
        "  xs = [x.copy()]\n",
        "  for i in range(n_iterations):\n",
        "    delta = alpha * f_grad(x)\n",
        "    x -= delta\n",
        "    xs.append(x.copy())           # the copy is needed, else all values in xs will be the same\n",
        "    if np.sum(np.absolute(delta)) < threshold:     # L1 norm\n",
        "      return x, xs\n",
        "\n",
        "  print('warning: reached iteration limit')\n",
        "  return x, xs"
      ],
      "execution_count": null,
      "outputs": []
    },
    {
      "cell_type": "code",
      "metadata": {
        "id": "w9DKGU8YALJe",
        "colab": {
          "base_uri": "https://localhost:8080/",
          "height": 68
        },
        "outputId": "ee184f1e-8f4b-4691-98f2-761209ce2939"
      },
      "source": [
        "# test the grad_descent() function\n",
        "\n",
        "# test on some 1D functions\n",
        "f1 = lambda x: (x[0] - 1)**2\n",
        "f2 = lambda x: 0.2*(x[0]**2) + np.sin(x[0])\n",
        "for f in [f1, f2]:\n",
        "  x, xs = grad_descent(f, 1)\n",
        "  print('x = {}, f(x) = {:0.3f}'.format(x, f(x)))\n",
        "    \n",
        "# test on 2D function\n",
        "f = lambda x: (x[0]-1)**2 + (x[1]+1)**2 + 2.0\n",
        "x, xs = grad_descent(f, 2)\n",
        "print('x = {}, f(x) = {:0.3f}'.format(x, f(x)))"
      ],
      "execution_count": null,
      "outputs": [
        {
          "output_type": "stream",
          "text": [
            "x = [0.99667033], f(x) = 0.000\n",
            "x = [-1.10462872], f(x) = -0.649\n",
            "x = [ 0.99923113 -0.99701226], f(x) = 2.000\n"
          ],
          "name": "stdout"
        }
      ]
    },
    {
      "cell_type": "markdown",
      "metadata": {
        "id": "TFIdv1K2IGVg"
      },
      "source": [
        "Plot the value of the loss function as gradient descent proceeds."
      ]
    },
    {
      "cell_type": "code",
      "metadata": {
        "id": "qgELkT8-IhUH"
      },
      "source": [
        "def plot_descent(f, xs):\n",
        "  \"\"\" plot value of function f using history xs of gradient descent \"\"\"\n",
        "  plt.plot([f(x) for x in xs])\n",
        "  plt.xlabel('iteration')\n",
        "  plt.ylabel('f(x)')\n",
        "  plt.title('Progress of gradient descent')\n",
        "  plt.grid();"
      ],
      "execution_count": null,
      "outputs": []
    },
    {
      "cell_type": "code",
      "metadata": {
        "id": "1hCdjCNsctK3",
        "colab": {
          "base_uri": "https://localhost:8080/",
          "height": 295
        },
        "outputId": "d3c61aea-347e-4207-e68a-7f9c583a1de5"
      },
      "source": [
        "# plot progress of gradient descent for function f\n",
        "x, xs = grad_descent(f, 2)\n",
        "plot_descent(f, xs)"
      ],
      "execution_count": null,
      "outputs": [
        {
          "output_type": "display_data",
          "data": {
            "image/png": "[encoded data removed]",
            "text/plain": [
              "<Figure size 432x288 with 1 Axes>"
            ]
          },
          "metadata": {
            "tags": [],
            "needs_background": "light"
          }
        }
      ]
    },
    {
      "cell_type": "markdown",
      "metadata": {
        "id": "2bpU22BtHFMa"
      },
      "source": [
        "## Binary Logistic regression\n",
        "\n",
        "The key idea for training is that we want to use gradient descent to find the model parameters that minimize the loss function.  For binary classification with logistic regression, the loss function is \"log loss\"."
      ]
    },
    {
      "cell_type": "markdown",
      "metadata": {
        "id": "ZUHxo0RmIGVl"
      },
      "source": [
        "#### Heart disease data set"
      ]
    },
    {
      "cell_type": "code",
      "metadata": {
        "id": "Dq0FWCB1IGVl",
        "colab": {
          "base_uri": "https://localhost:8080/",
          "height": 374
        },
        "outputId": "44cab12e-8785-44a9-ad38-99f249c870d0"
      },
      "source": [
        "df = pd.read_csv(\"https://raw.githubusercontent.com/grbruns/cst383/master/heart.csv\")\n",
        "df.info()"
      ],
      "execution_count": null,
      "outputs": [
        {
          "output_type": "stream",
          "text": [
            "<class 'pandas.core.frame.DataFrame'>\n",
            "RangeIndex: 270 entries, 0 to 269\n",
            "Data columns (total 14 columns):\n",
            " #   Column     Non-Null Count  Dtype  \n",
            "---  ------     --------------  -----  \n",
            " 0   age        270 non-null    int64  \n",
            " 1   sex        270 non-null    int64  \n",
            " 2   chestpain  270 non-null    int64  \n",
            " 3   restbp     270 non-null    int64  \n",
            " 4   chol       270 non-null    int64  \n",
            " 5   sugar      270 non-null    int64  \n",
            " 6   ecg        270 non-null    int64  \n",
            " 7   maxhr      270 non-null    int64  \n",
            " 8   angina     270 non-null    int64  \n",
            " 9   dep        270 non-null    float64\n",
            " 10  exercise   270 non-null    int64  \n",
            " 11  fluor      270 non-null    int64  \n",
            " 12  thal       270 non-null    int64  \n",
            " 13  output     270 non-null    int64  \n",
            "dtypes: float64(1), int64(13)\n",
            "memory usage: 29.7 KB\n"
          ],
          "name": "stdout"
        }
      ]
    },
    {
      "cell_type": "markdown",
      "metadata": {
        "id": "ZTUevAa6IGVo"
      },
      "source": [
        "Prepare the training data set."
      ]
    },
    {
      "cell_type": "code",
      "metadata": {
        "id": "rZechQejIGVo",
        "colab": {
          "base_uri": "https://localhost:8080/",
          "height": 51
        },
        "outputId": "f8386ba0-1b1f-4232-bb12-5852509bb4a5"
      },
      "source": [
        "df['output'] -= 1         # 0 = ok, 1 = heart disease\n",
        "\n",
        "predictors = ['age', 'restbp', 'maxhr']\n",
        "target = 'output'\n",
        "X = df[predictors].values\n",
        "y = df[target].values\n",
        "\n",
        "# scale the data\n",
        "X = StandardScaler().fit_transform(X)\n",
        "\n",
        "# augment the data\n",
        "X1 = np.c_[np.ones(X.shape[0]), X]        # add new first column of 1's\n",
        "\n",
        "print(X1.shape)\n",
        "print(y.shape)"
      ],
      "execution_count": null,
      "outputs": [
        {
          "output_type": "stream",
          "text": [
            "(270, 4)\n",
            "(270,)\n"
          ],
          "name": "stdout"
        }
      ]
    },
    {
      "cell_type": "code",
      "metadata": {
        "id": "5jgNm8YEGO3-",
        "colab": {
          "base_uri": "https://localhost:8080/",
          "height": 295
        },
        "outputId": "633257bd-7a2c-4f26-b79d-37189fcf4aef"
      },
      "source": [
        "# plot output by rest BP\n",
        "plt.scatter(X[:,1], y, );\n",
        "plt.title('training data set')\n",
        "plt.xlabel('resting blood pressure (scaled)')\n",
        "plt.ylabel('output');"
      ],
      "execution_count": null,
      "outputs": [
        {
          "output_type": "display_data",
          "data": {
            "image/png": "[encoded data removed]",
            "text/plain": [
              "<Figure size 432x288 with 1 Axes>"
            ]
          },
          "metadata": {
            "tags": [],
            "needs_background": "light"
          }
        }
      ]
    },
    {
      "cell_type": "markdown",
      "metadata": {
        "id": "q_ZRCn_NEySC"
      },
      "source": [
        "### Log loss\n",
        "\n",
        "Note that to compute the loss we need both the model parameters and the training data."
      ]
    },
    {
      "cell_type": "markdown",
      "metadata": {
        "id": "X95ZPJhMIGVt"
      },
      "source": [
        "#### Problem 1"
      ]
    },
    {
      "cell_type": "code",
      "metadata": {
        "id": "ATxdEhD4IGVt"
      },
      "source": [
        "def sigmoid(x):\n",
        "    return 1/(1 + np.exp(-x))"
      ],
      "execution_count": null,
      "outputs": []
    },
    {
      "cell_type": "code",
      "metadata": {
        "id": "oG6EJY8QIGVv",
        "colab": {
          "base_uri": "https://localhost:8080/",
          "height": 68
        },
        "outputId": "922584c8-a7f8-4e9c-ea15-7005efc5e55f"
      },
      "source": [
        "# test sigmoid()\n",
        "\n",
        "print(sigmoid(-1.0))\n",
        "print(sigmoid(0))\n",
        "print(sigmoid(0.8))"
      ],
      "execution_count": null,
      "outputs": [
        {
          "output_type": "stream",
          "text": [
            "0.2689414213699951\n",
            "0.5\n",
            "0.6899744811276125\n"
          ],
          "name": "stdout"
        }
      ]
    },
    {
      "cell_type": "markdown",
      "metadata": {
        "id": "oeL68WeSIGVy"
      },
      "source": [
        "#### Problem 2"
      ]
    },
    {
      "cell_type": "code",
      "metadata": {
        "id": "afzusZnBIGVy"
      },
      "source": [
        "# implement log loss yourself, not with a library function\n",
        "def log_loss(b, X1, y):\n",
        "    loss = []\n",
        "    m = X1.shape[0]\n",
        "\n",
        "    for i in range(m):\n",
        "      prediction = sigmoid(b.dot(X1[i]))\n",
        "      loss.append(y[i] * np.log(prediction) + (1 - y[i]) * np.log(1 - prediction))\n",
        "\n",
        "    return -np.sum(loss) / m"
      ],
      "execution_count": null,
      "outputs": []
    },
    {
      "cell_type": "code",
      "metadata": {
        "id": "OJQ4FzAHKJ6_",
        "colab": {
          "base_uri": "https://localhost:8080/",
          "height": 68
        },
        "outputId": "7ab096c7-f168-4a69-8abb-1c5c43323138"
      },
      "source": [
        "# test log_loss() by computing the loss for various\n",
        "# values of linear parameters b\n",
        "m = 4\n",
        "bs = np.array([[-0.2, 0.1, 0.3, -1.0],\n",
        "              [0.8, 0.5, 0.6, 0.9],\n",
        "              [0.05, 0.08, 0.02, 0.8]])\n",
        "\n",
        "for i in range(bs.shape[0]):\n",
        "    b = bs[i]\n",
        "    print('b: {}, log_loss(b): {:0.3f}'.format(b, log_loss(b, X1, y)))"
      ],
      "execution_count": null,
      "outputs": [
        {
          "output_type": "stream",
          "text": [
            "b: [-0.2  0.1  0.3 -1. ], log_loss(b): 0.582\n",
            "b: [0.8 0.5 0.6 0.9], log_loss(b): 1.021\n",
            "b: [0.05 0.08 0.02 0.8 ], log_loss(b): 0.923\n"
          ],
          "name": "stdout"
        }
      ]
    },
    {
      "cell_type": "markdown",
      "metadata": {
        "id": "Ha_bZ6t1IGV2"
      },
      "source": [
        "### Gradient descent with log loss"
      ]
    },
    {
      "cell_type": "markdown",
      "metadata": {
        "id": "v1GgthcZIGV3"
      },
      "source": [
        "Now we can put together our gradient descent function and log_loss function to perform logistic regression."
      ]
    },
    {
      "cell_type": "markdown",
      "metadata": {
        "id": "g6dUXRJvoGbV"
      },
      "source": [
        "We create a loss function that is log_loss() with our training data X1, y \"hardwired\" in."
      ]
    },
    {
      "cell_type": "markdown",
      "metadata": {
        "id": "MvQ2Ijm3IGV3"
      },
      "source": [
        "#### Problem 3"
      ]
    },
    {
      "cell_type": "code",
      "metadata": {
        "id": "69son0weHcjt",
        "colab": {
          "base_uri": "https://localhost:8080/",
          "height": 34
        },
        "outputId": "9a605016-f1d4-400e-cb17-feef1b46db06"
      },
      "source": [
        "loss = lambda b: log_loss(b, X1, y)\n",
        "b_estimated, history = grad_descent(loss, 4)\n",
        "print(b_estimated)"
      ],
      "execution_count": null,
      "outputs": [
        {
          "output_type": "stream",
          "text": [
            "[-0.24640406  0.07479957  0.30294116 -0.93332161]\n"
          ],
          "name": "stdout"
        }
      ]
    },
    {
      "cell_type": "markdown",
      "metadata": {
        "id": "9s_kno5mjzjo"
      },
      "source": [
        "Compute training loss and training accuracy.  Use a threshold of 0.5 when computing accuracy."
      ]
    },
    {
      "cell_type": "code",
      "metadata": {
        "id": "EabHFq8Djxvf",
        "colab": {
          "base_uri": "https://localhost:8080/",
          "height": 34
        },
        "outputId": "e4cb8ab4-d4bb-4958-e506-f7bad57071a0"
      },
      "source": [
        "pred = sigmoid(X1.dot(b_estimated))    \n",
        "training_loss = loss(b_estimated)\n",
        "training_acc = (y == (pred > 0.5)).mean()\n",
        "\n",
        "print('training loss: {:0.3f}, training accuracy: {:0.3f}'.format(training_loss, training_acc))"
      ],
      "execution_count": null,
      "outputs": [
        {
          "output_type": "stream",
          "text": [
            "training loss: 0.582, training accuracy: 0.711\n"
          ],
          "name": "stdout"
        }
      ]
    },
    {
      "cell_type": "markdown",
      "metadata": {
        "id": "e1BicW5uIGV7"
      },
      "source": [
        "This plot shows how log loss decreases during gradient descent."
      ]
    },
    {
      "cell_type": "code",
      "metadata": {
        "id": "DGMwUljzNHWY",
        "colab": {
          "base_uri": "https://localhost:8080/",
          "height": 295
        },
        "outputId": "f9742604-76e8-4929-fff5-fdef26d6a69f"
      },
      "source": [
        "plot_descent(loss, history)"
      ],
      "execution_count": null,
      "outputs": [
        {
          "output_type": "display_data",
          "data": {
            "image/png": "[encoded data removed]",
            "text/plain": [
              "<Figure size 432x288 with 1 Axes>"
            ]
          },
          "metadata": {
            "tags": [],
            "needs_background": "light"
          }
        }
      ]
    },
    {
      "cell_type": "markdown",
      "metadata": {
        "id": "XNUhX4hHIGV9"
      },
      "source": [
        "### Compare to the result from Scikit-Learn"
      ]
    },
    {
      "cell_type": "code",
      "metadata": {
        "id": "EmoRViEAIGV9",
        "colab": {
          "base_uri": "https://localhost:8080/",
          "height": 102
        },
        "outputId": "9d9dc0fb-e3b3-4b0a-ea3d-87ca5d99e83e"
      },
      "source": [
        "clf = LogisticRegression()\n",
        "clf.fit(X, y)\n",
        "\n",
        "print('Model coefficients:')\n",
        "print(clf.intercept_)\n",
        "print(clf.coef_)\n",
        "\n",
        "print('\\nScikit-Learn training accuracy: {:0.3f}'.format(clf.score(X,y)))     # training accuracy"
      ],
      "execution_count": null,
      "outputs": [
        {
          "output_type": "stream",
          "text": [
            "Model coefficients:\n",
            "[-0.2463097]\n",
            "[[ 0.04820012  0.31247721 -0.94939172]]\n",
            "\n",
            "Scikit-Learn training accuracy: 0.704\n"
          ],
          "name": "stdout"
        }
      ]
    },
    {
      "cell_type": "markdown",
      "metadata": {
        "id": "UCMhkW0cIGV_"
      },
      "source": [
        "## Multi-class logistic regression"
      ]
    },
    {
      "cell_type": "markdown",
      "metadata": {
        "id": "8Z6geKH6IGV_"
      },
      "source": [
        "If we have a multi-class classification problem, then we need to use a separate linear model for each output class.  If we have 3 output class, for example, from each input we will get a vector of three output values.  In multi-class logistic regression, we transform this vector to a vector of probabilities using the softmax function."
      ]
    },
    {
      "cell_type": "markdown",
      "metadata": {
        "id": "JJJaP2FRIGWA"
      },
      "source": [
        "#### Iris data set"
      ]
    },
    {
      "cell_type": "code",
      "metadata": {
        "id": "S6ulmp8fIGWA",
        "colab": {
          "base_uri": "https://localhost:8080/",
          "height": 221
        },
        "outputId": "8610655e-36fa-4e26-e010-dda47525b72b"
      },
      "source": [
        "df = pd.read_csv(\"https://raw.githubusercontent.com/grbruns/cst383/master/iris.csv\")\n",
        "df.info()"
      ],
      "execution_count": null,
      "outputs": [
        {
          "output_type": "stream",
          "text": [
            "<class 'pandas.core.frame.DataFrame'>\n",
            "RangeIndex: 150 entries, 0 to 149\n",
            "Data columns (total 5 columns):\n",
            " #   Column        Non-Null Count  Dtype  \n",
            "---  ------        --------------  -----  \n",
            " 0   sepal_length  150 non-null    float64\n",
            " 1   sepal_width   150 non-null    float64\n",
            " 2   petal_length  150 non-null    float64\n",
            " 3   petal_width   150 non-null    float64\n",
            " 4   species       150 non-null    object \n",
            "dtypes: float64(4), object(1)\n",
            "memory usage: 6.0+ KB\n"
          ],
          "name": "stdout"
        }
      ]
    },
    {
      "cell_type": "code",
      "metadata": {
        "id": "5Mu8sLT4IGWD",
        "colab": {
          "base_uri": "https://localhost:8080/",
          "height": 85
        },
        "outputId": "ae452da3-9471-4f1c-b602-1bc98368b8f0"
      },
      "source": [
        "df['species'].value_counts()"
      ],
      "execution_count": null,
      "outputs": [
        {
          "output_type": "execute_result",
          "data": {
            "text/plain": [
              "versicolor    50\n",
              "setosa        50\n",
              "virginica     50\n",
              "Name: species, dtype: int64"
            ]
          },
          "metadata": {
            "tags": []
          },
          "execution_count": 22
        }
      ]
    },
    {
      "cell_type": "markdown",
      "metadata": {
        "id": "K_01NH4DIGWE"
      },
      "source": [
        "Preprocess the data"
      ]
    },
    {
      "cell_type": "code",
      "metadata": {
        "id": "p2i8jchcIGWF",
        "colab": {
          "base_uri": "https://localhost:8080/",
          "height": 68
        },
        "outputId": "b655d7b2-670a-495e-8823-ffa71c6b523b"
      },
      "source": [
        "predictors = df.columns[:4]\n",
        "X = df[predictors].values\n",
        "y_raw = df['species'].values\n",
        "\n",
        "# one-hot encoding of the target\n",
        "df = pd.get_dummies(df)\n",
        "target = df.columns[4:]\n",
        "y = df[target].values\n",
        "\n",
        "# scale the data\n",
        "X = StandardScaler().fit_transform(X)\n",
        "\n",
        "# augment the data\n",
        "X1 = np.c_[np.ones(X.shape[0]), X]        # add new first column of 1's\n",
        "\n",
        "print(X1.shape)\n",
        "print(y.shape)\n",
        "print(y_raw.shape)"
      ],
      "execution_count": null,
      "outputs": [
        {
          "output_type": "stream",
          "text": [
            "(150, 5)\n",
            "(150, 3)\n",
            "(150,)\n"
          ],
          "name": "stdout"
        }
      ]
    },
    {
      "cell_type": "markdown",
      "metadata": {
        "id": "lX1OwmRRIGWG"
      },
      "source": [
        "### Softmax"
      ]
    },
    {
      "cell_type": "markdown",
      "metadata": {
        "id": "0saZ8v2tIGWH"
      },
      "source": [
        "#### Problem 4"
      ]
    },
    {
      "cell_type": "code",
      "metadata": {
        "id": "KhQLKOrBIGWH"
      },
      "source": [
        "#### Implement softmax yourself\n",
        "def softmax(x):\n",
        "    return np.exp(x) / np.sum(np.exp(x))"
      ],
      "execution_count": null,
      "outputs": []
    },
    {
      "cell_type": "markdown",
      "metadata": {
        "id": "s9zDdtC0IGWJ"
      },
      "source": [
        "Test softmax"
      ]
    },
    {
      "cell_type": "code",
      "metadata": {
        "id": "oV9ON4jRIGWJ",
        "colab": {
          "base_uri": "https://localhost:8080/",
          "height": 51
        },
        "outputId": "04a58802-8d3c-4587-e58d-0d3ff8e43aa8"
      },
      "source": [
        "print(softmax(np.array([1.7, 2.4, 0.5])))\n",
        "print(softmax(np.array([-0.2, 1.2, -0.1])))"
      ],
      "execution_count": null,
      "outputs": [
        {
          "output_type": "stream",
          "text": [
            "[0.30166396 0.60747661 0.09085944]\n",
            "[0.16232789 0.65827205 0.17940006]\n"
          ],
          "name": "stdout"
        }
      ]
    },
    {
      "cell_type": "markdown",
      "metadata": {
        "id": "Fj7itsWBIGWL"
      },
      "source": [
        "#### Making predictions"
      ]
    },
    {
      "cell_type": "markdown",
      "metadata": {
        "id": "9zrHns1cIGWL"
      },
      "source": [
        "We have a separate linear model for each output class.  If we have k output classes, and n predictors, then we need n+1 parameters for each class.  Instead of keeping the parameters for each class separate, we can put them in a single matrix B.  Each row of B will contain the parameters for one class.  In other words, B will have k rows and n+1 columns.\n",
        "\n",
        "Think about the matrix multiplication that is needed here.  Previously we got a single output value for each training example by computing X1.dot(b).  How shall we combine X1 and B to get an array of outputs, one for each class?"
      ]
    },
    {
      "cell_type": "markdown",
      "metadata": {
        "id": "yoFWduayIGWL"
      },
      "source": [
        "Make predictions using a random set of parameters of the linear model.  Each row in array pred is a prediction."
      ]
    },
    {
      "cell_type": "code",
      "metadata": {
        "id": "7VyHO5ikIGWM",
        "colab": {
          "base_uri": "https://localhost:8080/",
          "height": 102
        },
        "outputId": "c2cf7c12-6cc6-48d1-f796-783133cec3d0"
      },
      "source": [
        "B = np.random.rand(X1.shape[1], y.shape[1])\n",
        "pred = X1.dot(B)\n",
        "pred[:5]"
      ],
      "execution_count": null,
      "outputs": [
        {
          "output_type": "execute_result",
          "data": {
            "text/plain": [
              "array([[-1.79440354, -1.02495559,  0.05587703],\n",
              "       [-2.04197974, -2.00050214, -0.86088335],\n",
              "       [-2.30642572, -1.69000608, -0.56916167],\n",
              "       [-2.324334  , -1.77903546, -0.66800388],\n",
              "       [-1.90190191, -0.84189648,  0.22444893]])"
            ]
          },
          "metadata": {
            "tags": []
          },
          "execution_count": 26
        }
      ]
    },
    {
      "cell_type": "markdown",
      "metadata": {
        "id": "Gt_eDQ9yIGWO"
      },
      "source": [
        "Apply softmax to each row, so that the values in each row sum to 1."
      ]
    },
    {
      "cell_type": "code",
      "metadata": {
        "scrolled": true,
        "id": "RJFU-rkGIGWO",
        "colab": {
          "base_uri": "https://localhost:8080/",
          "height": 102
        },
        "outputId": "c0ea2319-e2cc-4e9f-8ee8-b836b171bb0f"
      },
      "source": [
        "pred = np.apply_along_axis(softmax, 1, pred)\n",
        "print(pred[:5])"
      ],
      "execution_count": null,
      "outputs": [
        {
          "output_type": "stream",
          "text": [
            "[[0.10504005 0.22673675 0.66822321]\n",
            " [0.18866878 0.19665887 0.61467236]\n",
            " [0.1171775  0.21704605 0.66577645]\n",
            " [0.12554662 0.21658341 0.65786997]\n",
            " [0.08149559 0.23522779 0.68327662]]\n"
          ],
          "name": "stdout"
        }
      ]
    },
    {
      "cell_type": "markdown",
      "metadata": {
        "id": "kKOJmX5zIGWQ"
      },
      "source": [
        "The generalization of log loss to more than 2 classes is cross entropy."
      ]
    },
    {
      "cell_type": "markdown",
      "metadata": {
        "id": "6rRpBJyZIGWQ"
      },
      "source": [
        "### Cross-entropy"
      ]
    },
    {
      "cell_type": "markdown",
      "metadata": {
        "id": "wDpfMIIgIGWQ"
      },
      "source": [
        "#### Problem 5"
      ]
    },
    {
      "cell_type": "code",
      "metadata": {
        "id": "dyZuQuWqIGWQ"
      },
      "source": [
        "def cross_entropy(pred, y):\n",
        "    \"\"\" cross-entropy of arrays pred and y, where y is one-hot encoded \"\"\"\n",
        "    return np.mean(-np.log(pred[y == 1]))\n",
        "\n",
        "def cross_entropy_loss(b, X1, y):\n",
        "    B = b.reshape((X1.shape[1], y.shape[1]))\n",
        "    pred = X1.dot(B)\n",
        "    y_pred = np.apply_along_axis(softmax, 1, pred)\n",
        "    return cross_entropy(y_pred, y)"
      ],
      "execution_count": null,
      "outputs": []
    },
    {
      "cell_type": "markdown",
      "metadata": {
        "id": "cbezH1q-IGWS"
      },
      "source": [
        "Test cross_entropy() and cross_entropy_loss()."
      ]
    },
    {
      "cell_type": "code",
      "metadata": {
        "id": "eP8vLe3AIGWT",
        "colab": {
          "base_uri": "https://localhost:8080/",
          "height": 119
        },
        "outputId": "5159e114-f920-4010-d110-9e36bd8a029f"
      },
      "source": [
        "print(cross_entropy(np.array([0.98, 0.01, 0.01]), np.array([1, 0, 0])))\n",
        "print(cross_entropy(np.array([0.90, 0.05, 0.05]), np.array([1, 0, 0])))\n",
        "print(cross_entropy(np.array([0.40, 0.20, 0.20]), np.array([1, 0, 0])))\n",
        "print(cross_entropy(np.array([0.40, 0.20, 0.20]), np.array([0, 1, 0])))\n",
        "\n",
        "# class examples\n",
        "print(cross_entropy(np.array([0.3, 0.61, 0.09]), np.array([0, 1, 0])))\n",
        "print(cross_entropy(np.array([0.3, 0.61, 0.09]), np.array([1, 0, 0])))"
      ],
      "execution_count": null,
      "outputs": [
        {
          "output_type": "stream",
          "text": [
            "0.020202707317519466\n",
            "0.10536051565782628\n",
            "0.916290731874155\n",
            "1.6094379124341003\n",
            "0.4942963218147801\n",
            "1.2039728043259361\n"
          ],
          "name": "stdout"
        }
      ]
    },
    {
      "cell_type": "code",
      "metadata": {
        "id": "RJZNTlPLIGWU",
        "colab": {
          "base_uri": "https://localhost:8080/",
          "height": 34
        },
        "outputId": "4eebbb87-bed2-4878-b37e-276ac99c4a32"
      },
      "source": [
        "# checking an example from lecture\n",
        "print(cross_entropy(np.array([[0.1, 0.5, 0.4],\n",
        "                              [0.1, 0.1, 0.8],\n",
        "                              [0.2, 0.6, 0.2]]),\n",
        "                    np.array([[1, 0, 0],\n",
        "                              [0, 0, 1],\n",
        "                              [0, 1, 0]])))"
      ],
      "execution_count": null,
      "outputs": [
        {
          "output_type": "stream",
          "text": [
            "1.0121847560247488\n"
          ],
          "name": "stdout"
        }
      ]
    },
    {
      "cell_type": "markdown",
      "metadata": {
        "id": "hvNNQvsMIGWW"
      },
      "source": [
        "### Gradient descent with cross-entropy.\n",
        "\n",
        "Using gradient descent, softmax, and cross entropy loss we can perform multi-class logistic regression."
      ]
    },
    {
      "cell_type": "markdown",
      "metadata": {
        "id": "Hxsl8U6-IGWW"
      },
      "source": [
        "#### Problem 6"
      ]
    },
    {
      "cell_type": "code",
      "metadata": {
        "scrolled": false,
        "id": "_HZ90F2eIGWX",
        "colab": {
          "base_uri": "https://localhost:8080/",
          "height": 85
        },
        "outputId": "292b22b1-3c64-42fe-83ed-a6011b1a5807"
      },
      "source": [
        "loss = lambda b: cross_entropy_loss(b, X1, y) \n",
        "num_parameters = 15 \n",
        "b_estimated, history = grad_descent(loss, num_parameters, alpha=0.5, n_iterations=400, threshold=0.00001)\n",
        "print(b_estimated)"
      ],
      "execution_count": null,
      "outputs": [
        {
          "output_type": "stream",
          "text": [
            "warning: reached iteration limit\n",
            "[ 0.07220324  3.3688566  -1.71313402 -0.98973188  1.27655259  0.91423354\n",
            "  2.12894222  0.16243843 -0.49257505 -2.39038444  0.1098489   3.52904675\n",
            " -1.62851411 -0.46070803  4.33171562]\n"
          ],
          "name": "stdout"
        }
      ]
    },
    {
      "cell_type": "code",
      "metadata": {
        "id": "MPfadE61IGWY",
        "colab": {
          "base_uri": "https://localhost:8080/",
          "height": 34
        },
        "outputId": "ab69ec0f-e0a0-4f85-c441-2d11ac948d95"
      },
      "source": [
        "print(cross_entropy_loss(b_estimated, X1, y))"
      ],
      "execution_count": null,
      "outputs": [
        {
          "output_type": "stream",
          "text": [
            "0.09041396997266515\n"
          ],
          "name": "stdout"
        }
      ]
    },
    {
      "cell_type": "code",
      "metadata": {
        "id": "MuTFY-naIGWb",
        "colab": {
          "base_uri": "https://localhost:8080/",
          "height": 295
        },
        "outputId": "42de3e9d-ca19-491a-f2e5-448a3228e5b8"
      },
      "source": [
        "plot_descent(loss, history)"
      ],
      "execution_count": null,
      "outputs": [
        {
          "output_type": "display_data",
          "data": {
            "image/png": "[encoded data removed]",
            "text/plain": [
              "<Figure size 432x288 with 1 Axes>"
            ]
          },
          "metadata": {
            "tags": [],
            "needs_background": "light"
          }
        }
      ]
    },
    {
      "cell_type": "markdown",
      "metadata": {
        "id": "IOgVsmYfIGWd"
      },
      "source": [
        "Compute training set accuracy"
      ]
    },
    {
      "cell_type": "code",
      "metadata": {
        "id": "phfKDHQ4IGWd",
        "colab": {
          "base_uri": "https://localhost:8080/",
          "height": 34
        },
        "outputId": "204aaf84-1aac-490f-d783-7b93c0ae8d95"
      },
      "source": [
        "B1 = b_estimated.reshape((X1.shape[1], y.shape[1]))\n",
        "pred = np.apply_along_axis(np.argmax, 1, X1.dot(B1))  \n",
        "y1d  = np.apply_along_axis(np.argmax, 1, y)\n",
        "\n",
        "# training accuracy\n",
        "print('gradient descent training accuracy: {:0.3f}'.format((pred == y1d).mean()))"
      ],
      "execution_count": null,
      "outputs": [
        {
          "output_type": "stream",
          "text": [
            "gradient descent training accuracy: 0.973\n"
          ],
          "name": "stdout"
        }
      ]
    },
    {
      "cell_type": "markdown",
      "metadata": {
        "id": "E7HjjktIIGWf"
      },
      "source": [
        "Compare results to Scikit Learn"
      ]
    },
    {
      "cell_type": "code",
      "metadata": {
        "id": "8OxV7YlxIGWf",
        "colab": {
          "base_uri": "https://localhost:8080/",
          "height": 34
        },
        "outputId": "133c8575-b6fe-4746-9c43-220fc43d2183"
      },
      "source": [
        "clf = LogisticRegression()\n",
        "clf.fit(X, y_raw)\n",
        "\n",
        "print('Scikit-Learn training accuracy: {:0.3f}'.format(clf.score(X,y_raw)))"
      ],
      "execution_count": null,
      "outputs": [
        {
          "output_type": "stream",
          "text": [
            "Scikit-Learn training accuracy: 0.973\n"
          ],
          "name": "stdout"
        }
      ]
    }
  ]
}